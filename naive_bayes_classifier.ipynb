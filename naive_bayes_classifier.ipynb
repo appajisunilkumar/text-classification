{
 "cells": [
  {
   "cell_type": "code",
   "execution_count": 1,
   "metadata": {},
   "outputs": [],
   "source": [
    "import pandas as pd\n",
    "import numpy as np\n",
    "from nltk.tokenize import word_tokenize\n",
    "from sklearn import linear_model\n",
    "from sklearn import metrics\n",
    "from sklearn import model_selection\n",
    "from sklearn.feature_extraction.text import CountVectorizer\n",
    "from sklearn.feature_extraction.text import TfidfVectorizer\n",
    "from nltk.stem import WordNetLemmatizer\n",
    "from nltk.stem.snowball import SnowballStemmer\n",
    "from sklearn import decomposition\n",
    "import re\n",
    "\n",
    "import string"
   ]
  },
  {
   "cell_type": "code",
   "execution_count": 2,
   "metadata": {},
   "outputs": [
    {
     "data": {
      "text/html": [
       "<div>\n",
       "<style scoped>\n",
       "    .dataframe tbody tr th:only-of-type {\n",
       "        vertical-align: middle;\n",
       "    }\n",
       "\n",
       "    .dataframe tbody tr th {\n",
       "        vertical-align: top;\n",
       "    }\n",
       "\n",
       "    .dataframe thead th {\n",
       "        text-align: right;\n",
       "    }\n",
       "</style>\n",
       "<table border=\"1\" class=\"dataframe\">\n",
       "  <thead>\n",
       "    <tr style=\"text-align: right;\">\n",
       "      <th></th>\n",
       "      <th>id</th>\n",
       "      <th>title</th>\n",
       "      <th>author</th>\n",
       "      <th>text</th>\n",
       "      <th>label</th>\n",
       "    </tr>\n",
       "  </thead>\n",
       "  <tbody>\n",
       "    <tr>\n",
       "      <th>0</th>\n",
       "      <td>0</td>\n",
       "      <td>House Dem Aide: We Didn’t Even See Comey’s Let...</td>\n",
       "      <td>Darrell Lucus</td>\n",
       "      <td>House Dem Aide: We Didn’t Even See Comey’s Let...</td>\n",
       "      <td>1</td>\n",
       "    </tr>\n",
       "    <tr>\n",
       "      <th>1</th>\n",
       "      <td>1</td>\n",
       "      <td>FLYNN: Hillary Clinton, Big Woman on Campus - ...</td>\n",
       "      <td>Daniel J. Flynn</td>\n",
       "      <td>Ever get the feeling your life circles the rou...</td>\n",
       "      <td>0</td>\n",
       "    </tr>\n",
       "    <tr>\n",
       "      <th>2</th>\n",
       "      <td>2</td>\n",
       "      <td>Why the Truth Might Get You Fired</td>\n",
       "      <td>Consortiumnews.com</td>\n",
       "      <td>Why the Truth Might Get You Fired October 29, ...</td>\n",
       "      <td>1</td>\n",
       "    </tr>\n",
       "    <tr>\n",
       "      <th>3</th>\n",
       "      <td>3</td>\n",
       "      <td>15 Civilians Killed In Single US Airstrike Hav...</td>\n",
       "      <td>Jessica Purkiss</td>\n",
       "      <td>Videos 15 Civilians Killed In Single US Airstr...</td>\n",
       "      <td>1</td>\n",
       "    </tr>\n",
       "    <tr>\n",
       "      <th>4</th>\n",
       "      <td>4</td>\n",
       "      <td>Iranian woman jailed for fictional unpublished...</td>\n",
       "      <td>Howard Portnoy</td>\n",
       "      <td>Print \\nAn Iranian woman has been sentenced to...</td>\n",
       "      <td>1</td>\n",
       "    </tr>\n",
       "  </tbody>\n",
       "</table>\n",
       "</div>"
      ],
      "text/plain": [
       "   id                                              title              author  \\\n",
       "0   0  House Dem Aide: We Didn’t Even See Comey’s Let...       Darrell Lucus   \n",
       "1   1  FLYNN: Hillary Clinton, Big Woman on Campus - ...     Daniel J. Flynn   \n",
       "2   2                  Why the Truth Might Get You Fired  Consortiumnews.com   \n",
       "3   3  15 Civilians Killed In Single US Airstrike Hav...     Jessica Purkiss   \n",
       "4   4  Iranian woman jailed for fictional unpublished...      Howard Portnoy   \n",
       "\n",
       "                                                text  label  \n",
       "0  House Dem Aide: We Didn’t Even See Comey’s Let...      1  \n",
       "1  Ever get the feeling your life circles the rou...      0  \n",
       "2  Why the Truth Might Get You Fired October 29, ...      1  \n",
       "3  Videos 15 Civilians Killed In Single US Airstr...      1  \n",
       "4  Print \\nAn Iranian woman has been sentenced to...      1  "
      ]
     },
     "execution_count": 2,
     "metadata": {},
     "output_type": "execute_result"
    }
   ],
   "source": [
    "df = pd.read_csv('/media/sunil/Data/Downloads/assignments/tomtom/fake-news/train.csv')\n",
    "df.head()"
   ]
  },
  {
   "cell_type": "code",
   "execution_count": 3,
   "metadata": {},
   "outputs": [],
   "source": [
    "## '1':fake, '0':real"
   ]
  },
  {
   "cell_type": "code",
   "execution_count": 3,
   "metadata": {},
   "outputs": [],
   "source": [
    "#adding new column with all -1 values\n",
    "df['kfold'] = -1"
   ]
  },
  {
   "cell_type": "code",
   "execution_count": 4,
   "metadata": {},
   "outputs": [],
   "source": [
    "#randomize the data\n",
    "df = df.sample(frac=1).reset_index(drop=True)"
   ]
  },
  {
   "cell_type": "code",
   "execution_count": 5,
   "metadata": {},
   "outputs": [
    {
     "data": {
      "text/plain": [
       "array([0, 1, 0, ..., 0, 1, 1])"
      ]
     },
     "execution_count": 5,
     "metadata": {},
     "output_type": "execute_result"
    }
   ],
   "source": [
    "#fetch labels\n",
    "y = df.label.values\n",
    "y"
   ]
  },
  {
   "cell_type": "code",
   "execution_count": 6,
   "metadata": {},
   "outputs": [],
   "source": [
    "## intiate kfold class from model selection module\n",
    "kf = model_selection.StratifiedKFold(n_splits=5)"
   ]
  },
  {
   "cell_type": "code",
   "execution_count": 7,
   "metadata": {},
   "outputs": [],
   "source": [
    "#fill the new kfold column\n",
    "for f,(t_,v_) in enumerate(kf.split(X=df,y=y)):\n",
    "    df.loc[v_,'kfold'] = f"
   ]
  },
  {
   "cell_type": "code",
   "execution_count": 8,
   "metadata": {},
   "outputs": [
    {
     "data": {
      "text/html": [
       "<div>\n",
       "<style scoped>\n",
       "    .dataframe tbody tr th:only-of-type {\n",
       "        vertical-align: middle;\n",
       "    }\n",
       "\n",
       "    .dataframe tbody tr th {\n",
       "        vertical-align: top;\n",
       "    }\n",
       "\n",
       "    .dataframe thead th {\n",
       "        text-align: right;\n",
       "    }\n",
       "</style>\n",
       "<table border=\"1\" class=\"dataframe\">\n",
       "  <thead>\n",
       "    <tr style=\"text-align: right;\">\n",
       "      <th></th>\n",
       "      <th>id</th>\n",
       "      <th>title</th>\n",
       "      <th>author</th>\n",
       "      <th>text</th>\n",
       "      <th>label</th>\n",
       "      <th>kfold</th>\n",
       "    </tr>\n",
       "  </thead>\n",
       "  <tbody>\n",
       "    <tr>\n",
       "      <th>0</th>\n",
       "      <td>965</td>\n",
       "      <td>Rush Limbaugh: O’Reilly Departure Was Not ’Nat...</td>\n",
       "      <td>Pam Key</td>\n",
       "      <td>Thursday on his nationally syndicated radio sh...</td>\n",
       "      <td>0</td>\n",
       "      <td>0</td>\n",
       "    </tr>\n",
       "    <tr>\n",
       "      <th>1</th>\n",
       "      <td>986</td>\n",
       "      <td>The Onion’s Special Coverage Of Election Day 2...</td>\n",
       "      <td>NaN</td>\n",
       "      <td>The Onion’s Special Coverage Of Election Day 2...</td>\n",
       "      <td>1</td>\n",
       "      <td>0</td>\n",
       "    </tr>\n",
       "    <tr>\n",
       "      <th>2</th>\n",
       "      <td>8106</td>\n",
       "      <td>Trump, Price, Pruitt: Your Wednesday Evening B...</td>\n",
       "      <td>Karen Zraick and Sandra Stevenson</td>\n",
       "      <td>(Want to get this briefing by email? Here’s th...</td>\n",
       "      <td>0</td>\n",
       "      <td>0</td>\n",
       "    </tr>\n",
       "    <tr>\n",
       "      <th>3</th>\n",
       "      <td>2353</td>\n",
       "      <td>Oxford Dictionaries reveal word of the year as...</td>\n",
       "      <td>NaN</td>\n",
       "      <td>Wednesday 16 November 2016 by Spacey Oxford Di...</td>\n",
       "      <td>1</td>\n",
       "      <td>0</td>\n",
       "    </tr>\n",
       "    <tr>\n",
       "      <th>4</th>\n",
       "      <td>19300</td>\n",
       "      <td>Social Media Happy Shot Elephant Crushed a Hun...</td>\n",
       "      <td>Robert J. Marlow</td>\n",
       "      <td>A hunting expedition went seriously wrong in Z...</td>\n",
       "      <td>0</td>\n",
       "      <td>0</td>\n",
       "    </tr>\n",
       "  </tbody>\n",
       "</table>\n",
       "</div>"
      ],
      "text/plain": [
       "      id                                              title  \\\n",
       "0    965  Rush Limbaugh: O’Reilly Departure Was Not ’Nat...   \n",
       "1    986  The Onion’s Special Coverage Of Election Day 2...   \n",
       "2   8106  Trump, Price, Pruitt: Your Wednesday Evening B...   \n",
       "3   2353  Oxford Dictionaries reveal word of the year as...   \n",
       "4  19300  Social Media Happy Shot Elephant Crushed a Hun...   \n",
       "\n",
       "                              author  \\\n",
       "0                            Pam Key   \n",
       "1                                NaN   \n",
       "2  Karen Zraick and Sandra Stevenson   \n",
       "3                                NaN   \n",
       "4                   Robert J. Marlow   \n",
       "\n",
       "                                                text  label  kfold  \n",
       "0  Thursday on his nationally syndicated radio sh...      0      0  \n",
       "1  The Onion’s Special Coverage Of Election Day 2...      1      0  \n",
       "2  (Want to get this briefing by email? Here’s th...      0      0  \n",
       "3  Wednesday 16 November 2016 by Spacey Oxford Di...      1      0  \n",
       "4  A hunting expedition went seriously wrong in Z...      0      0  "
      ]
     },
     "execution_count": 8,
     "metadata": {},
     "output_type": "execute_result"
    }
   ],
   "source": [
    "df.head()"
   ]
  },
  {
   "cell_type": "code",
   "execution_count": 9,
   "metadata": {},
   "outputs": [
    {
     "ename": "ValueError",
     "evalue": "np.nan is an invalid document, expected byte or unicode string.",
     "output_type": "error",
     "traceback": [
      "\u001b[0;31m---------------------------------------------------------------------------\u001b[0m",
      "\u001b[0;31mValueError\u001b[0m                                Traceback (most recent call last)",
      "\u001b[0;32m<ipython-input-9-84d4ad82521e>\u001b[0m in \u001b[0;36m<module>\u001b[0;34m\u001b[0m\n\u001b[1;32m     12\u001b[0m \u001b[0;34m\u001b[0m\u001b[0m\n\u001b[1;32m     13\u001b[0m     \u001b[0;31m#transform training data and validation data reviews\u001b[0m\u001b[0;34m\u001b[0m\u001b[0;34m\u001b[0m\u001b[0;34m\u001b[0m\u001b[0m\n\u001b[0;32m---> 14\u001b[0;31m     \u001b[0mxtrain\u001b[0m \u001b[0;34m=\u001b[0m \u001b[0mtfidf_vec\u001b[0m\u001b[0;34m.\u001b[0m\u001b[0mtransform\u001b[0m\u001b[0;34m(\u001b[0m\u001b[0mtrain_df\u001b[0m\u001b[0;34m.\u001b[0m\u001b[0mtext\u001b[0m\u001b[0;34m)\u001b[0m\u001b[0;34m\u001b[0m\u001b[0;34m\u001b[0m\u001b[0m\n\u001b[0m\u001b[1;32m     15\u001b[0m     \u001b[0mxtest\u001b[0m \u001b[0;34m=\u001b[0m \u001b[0mtfidf_vec\u001b[0m\u001b[0;34m.\u001b[0m\u001b[0mtransform\u001b[0m\u001b[0;34m(\u001b[0m\u001b[0mtest_df\u001b[0m\u001b[0;34m.\u001b[0m\u001b[0mtext\u001b[0m\u001b[0;34m)\u001b[0m\u001b[0;34m\u001b[0m\u001b[0;34m\u001b[0m\u001b[0m\n\u001b[1;32m     16\u001b[0m \u001b[0;34m\u001b[0m\u001b[0m\n",
      "\u001b[0;32m~/.local/lib/python3.6/site-packages/sklearn/feature_extraction/text.py\u001b[0m in \u001b[0;36mtransform\u001b[0;34m(self, raw_documents, copy)\u001b[0m\n\u001b[1;32m   1678\u001b[0m         \u001b[0mcheck_is_fitted\u001b[0m\u001b[0;34m(\u001b[0m\u001b[0mself\u001b[0m\u001b[0;34m,\u001b[0m \u001b[0;34m'_tfidf'\u001b[0m\u001b[0;34m,\u001b[0m \u001b[0;34m'The tfidf vector is not fitted'\u001b[0m\u001b[0;34m)\u001b[0m\u001b[0;34m\u001b[0m\u001b[0;34m\u001b[0m\u001b[0m\n\u001b[1;32m   1679\u001b[0m \u001b[0;34m\u001b[0m\u001b[0m\n\u001b[0;32m-> 1680\u001b[0;31m         \u001b[0mX\u001b[0m \u001b[0;34m=\u001b[0m \u001b[0msuper\u001b[0m\u001b[0;34m(\u001b[0m\u001b[0;34m)\u001b[0m\u001b[0;34m.\u001b[0m\u001b[0mtransform\u001b[0m\u001b[0;34m(\u001b[0m\u001b[0mraw_documents\u001b[0m\u001b[0;34m)\u001b[0m\u001b[0;34m\u001b[0m\u001b[0;34m\u001b[0m\u001b[0m\n\u001b[0m\u001b[1;32m   1681\u001b[0m         \u001b[0;32mreturn\u001b[0m \u001b[0mself\u001b[0m\u001b[0;34m.\u001b[0m\u001b[0m_tfidf\u001b[0m\u001b[0;34m.\u001b[0m\u001b[0mtransform\u001b[0m\u001b[0;34m(\u001b[0m\u001b[0mX\u001b[0m\u001b[0;34m,\u001b[0m \u001b[0mcopy\u001b[0m\u001b[0;34m=\u001b[0m\u001b[0;32mFalse\u001b[0m\u001b[0;34m)\u001b[0m\u001b[0;34m\u001b[0m\u001b[0;34m\u001b[0m\u001b[0m\n\u001b[1;32m   1682\u001b[0m \u001b[0;34m\u001b[0m\u001b[0m\n",
      "\u001b[0;32m~/.local/lib/python3.6/site-packages/sklearn/feature_extraction/text.py\u001b[0m in \u001b[0;36mtransform\u001b[0;34m(self, raw_documents)\u001b[0m\n\u001b[1;32m   1110\u001b[0m \u001b[0;34m\u001b[0m\u001b[0m\n\u001b[1;32m   1111\u001b[0m         \u001b[0;31m# use the same matrix-building strategy as fit_transform\u001b[0m\u001b[0;34m\u001b[0m\u001b[0;34m\u001b[0m\u001b[0;34m\u001b[0m\u001b[0m\n\u001b[0;32m-> 1112\u001b[0;31m         \u001b[0m_\u001b[0m\u001b[0;34m,\u001b[0m \u001b[0mX\u001b[0m \u001b[0;34m=\u001b[0m \u001b[0mself\u001b[0m\u001b[0;34m.\u001b[0m\u001b[0m_count_vocab\u001b[0m\u001b[0;34m(\u001b[0m\u001b[0mraw_documents\u001b[0m\u001b[0;34m,\u001b[0m \u001b[0mfixed_vocab\u001b[0m\u001b[0;34m=\u001b[0m\u001b[0;32mTrue\u001b[0m\u001b[0;34m)\u001b[0m\u001b[0;34m\u001b[0m\u001b[0;34m\u001b[0m\u001b[0m\n\u001b[0m\u001b[1;32m   1113\u001b[0m         \u001b[0;32mif\u001b[0m \u001b[0mself\u001b[0m\u001b[0;34m.\u001b[0m\u001b[0mbinary\u001b[0m\u001b[0;34m:\u001b[0m\u001b[0;34m\u001b[0m\u001b[0;34m\u001b[0m\u001b[0m\n\u001b[1;32m   1114\u001b[0m             \u001b[0mX\u001b[0m\u001b[0;34m.\u001b[0m\u001b[0mdata\u001b[0m\u001b[0;34m.\u001b[0m\u001b[0mfill\u001b[0m\u001b[0;34m(\u001b[0m\u001b[0;36m1\u001b[0m\u001b[0;34m)\u001b[0m\u001b[0;34m\u001b[0m\u001b[0;34m\u001b[0m\u001b[0m\n",
      "\u001b[0;32m~/.local/lib/python3.6/site-packages/sklearn/feature_extraction/text.py\u001b[0m in \u001b[0;36m_count_vocab\u001b[0;34m(self, raw_documents, fixed_vocab)\u001b[0m\n\u001b[1;32m    968\u001b[0m         \u001b[0;32mfor\u001b[0m \u001b[0mdoc\u001b[0m \u001b[0;32min\u001b[0m \u001b[0mraw_documents\u001b[0m\u001b[0;34m:\u001b[0m\u001b[0;34m\u001b[0m\u001b[0;34m\u001b[0m\u001b[0m\n\u001b[1;32m    969\u001b[0m             \u001b[0mfeature_counter\u001b[0m \u001b[0;34m=\u001b[0m \u001b[0;34m{\u001b[0m\u001b[0;34m}\u001b[0m\u001b[0;34m\u001b[0m\u001b[0;34m\u001b[0m\u001b[0m\n\u001b[0;32m--> 970\u001b[0;31m             \u001b[0;32mfor\u001b[0m \u001b[0mfeature\u001b[0m \u001b[0;32min\u001b[0m \u001b[0manalyze\u001b[0m\u001b[0;34m(\u001b[0m\u001b[0mdoc\u001b[0m\u001b[0;34m)\u001b[0m\u001b[0;34m:\u001b[0m\u001b[0;34m\u001b[0m\u001b[0;34m\u001b[0m\u001b[0m\n\u001b[0m\u001b[1;32m    971\u001b[0m                 \u001b[0;32mtry\u001b[0m\u001b[0;34m:\u001b[0m\u001b[0;34m\u001b[0m\u001b[0;34m\u001b[0m\u001b[0m\n\u001b[1;32m    972\u001b[0m                     \u001b[0mfeature_idx\u001b[0m \u001b[0;34m=\u001b[0m \u001b[0mvocabulary\u001b[0m\u001b[0;34m[\u001b[0m\u001b[0mfeature\u001b[0m\u001b[0;34m]\u001b[0m\u001b[0;34m\u001b[0m\u001b[0;34m\u001b[0m\u001b[0m\n",
      "\u001b[0;32m~/.local/lib/python3.6/site-packages/sklearn/feature_extraction/text.py\u001b[0m in \u001b[0;36m<lambda>\u001b[0;34m(doc)\u001b[0m\n\u001b[1;32m    350\u001b[0m                                                tokenize)\n\u001b[1;32m    351\u001b[0m             return lambda doc: self._word_ngrams(\n\u001b[0;32m--> 352\u001b[0;31m                 tokenize(preprocess(self.decode(doc))), stop_words)\n\u001b[0m\u001b[1;32m    353\u001b[0m \u001b[0;34m\u001b[0m\u001b[0m\n\u001b[1;32m    354\u001b[0m         \u001b[0;32melse\u001b[0m\u001b[0;34m:\u001b[0m\u001b[0;34m\u001b[0m\u001b[0;34m\u001b[0m\u001b[0m\n",
      "\u001b[0;32m~/.local/lib/python3.6/site-packages/sklearn/feature_extraction/text.py\u001b[0m in \u001b[0;36mdecode\u001b[0;34m(self, doc)\u001b[0m\n\u001b[1;32m    141\u001b[0m \u001b[0;34m\u001b[0m\u001b[0m\n\u001b[1;32m    142\u001b[0m         \u001b[0;32mif\u001b[0m \u001b[0mdoc\u001b[0m \u001b[0;32mis\u001b[0m \u001b[0mnp\u001b[0m\u001b[0;34m.\u001b[0m\u001b[0mnan\u001b[0m\u001b[0;34m:\u001b[0m\u001b[0;34m\u001b[0m\u001b[0;34m\u001b[0m\u001b[0m\n\u001b[0;32m--> 143\u001b[0;31m             raise ValueError(\"np.nan is an invalid document, expected byte or \"\n\u001b[0m\u001b[1;32m    144\u001b[0m                              \"unicode string.\")\n\u001b[1;32m    145\u001b[0m \u001b[0;34m\u001b[0m\u001b[0m\n",
      "\u001b[0;31mValueError\u001b[0m: np.nan is an invalid document, expected byte or unicode string."
     ]
    }
   ],
   "source": [
    "for fold_ in range(5):\n",
    "    #temporary df for train and test\n",
    "    train_df = df[df.kfold!=fold_].reset_index(drop=True)\n",
    "    test_df = df[df.kfold == fold_].reset_index(drop=True)\n",
    "    \n",
    "    #intialize TfidfVectorizer with NLTK's word_tokenize\n",
    "    #function as tokenizer\n",
    "    tfidf_vec = TfidfVectorizer(tokenizer=word_tokenize,token_pattern=None)\n",
    "    \n",
    "    #fit tfidf_vec on training data reviews\n",
    "    tfidf_vec.fit(train_df.text.values.astype('U'))  ## Even astype(str) would work\n",
    "    \n",
    "    #transform training data and validation data reviews\n",
    "    xtrain = tfidf_vec.transform(train_df.text.values.astype('U'))\n",
    "    xtest = tfidf_vec.transform(test_df.text.values.astype('U'))\n",
    "    \n",
    "    ## intialize naive bayes model\n",
    "    model = naive_bayes.MultinomialNB()\n",
    "    ## fit the model on trianing data eviws and sentiment\n",
    "    model.fit(xtrain,train_df.sentiment)\n",
    "    \n",
    "    #make predictions in test data\n",
    "    #threshold for predictions 0.5\n",
    "    preds = model.predict(xtest)\n",
    "    \n",
    "    #caleculate accuracy\n",
    "    accuracy = metrics.accuracy_score(test_df.label,preds)\n",
    "    \n",
    "    print(f\"Fold: {fold_}\")\n",
    "    print(f\"Accuracy = {accuracy}\")\n",
    "    print('')"
   ]
  },
  {
   "cell_type": "code",
   "execution_count": null,
   "metadata": {},
   "outputs": [],
   "source": []
  },
  {
   "cell_type": "code",
   "execution_count": null,
   "metadata": {},
   "outputs": [],
   "source": []
  },
  {
   "cell_type": "code",
   "execution_count": 9,
   "metadata": {},
   "outputs": [
    {
     "data": {
      "text/plain": [
       "Index(['id', 'title', 'author', 'text', 'label', 'kfold'], dtype='object')"
      ]
     },
     "execution_count": 9,
     "metadata": {},
     "output_type": "execute_result"
    }
   ],
   "source": [
    "df.columns"
   ]
  },
  {
   "cell_type": "code",
   "execution_count": 4,
   "metadata": {},
   "outputs": [],
   "source": [
    "def clean_text(s):\n",
    "    #split by all whitespaces\n",
    "    s = s.split()\n",
    "    #join tokens by single space\n",
    "    s = ' '.join(s)\n",
    "    #remove all punctuations using regex and string module\n",
    "    s = re.sub(f'[{re.escape(string.punctuation)}]','',s)\n",
    "    return s"
   ]
  },
  {
   "cell_type": "code",
   "execution_count": 11,
   "metadata": {},
   "outputs": [
    {
     "data": {
      "text/html": [
       "<div>\n",
       "<style scoped>\n",
       "    .dataframe tbody tr th:only-of-type {\n",
       "        vertical-align: middle;\n",
       "    }\n",
       "\n",
       "    .dataframe tbody tr th {\n",
       "        vertical-align: top;\n",
       "    }\n",
       "\n",
       "    .dataframe thead th {\n",
       "        text-align: right;\n",
       "    }\n",
       "</style>\n",
       "<table border=\"1\" class=\"dataframe\">\n",
       "  <thead>\n",
       "    <tr style=\"text-align: right;\">\n",
       "      <th></th>\n",
       "      <th>id</th>\n",
       "      <th>title</th>\n",
       "      <th>author</th>\n",
       "      <th>text</th>\n",
       "      <th>label</th>\n",
       "      <th>kfold</th>\n",
       "    </tr>\n",
       "  </thead>\n",
       "  <tbody>\n",
       "    <tr>\n",
       "      <th>0</th>\n",
       "      <td>6719</td>\n",
       "      <td>Saudi ambassador to the UAE: Any contact with ...</td>\n",
       "      <td>NaN</td>\n",
       "      <td>Email \\n\\nAccording to a report by an Emirati ...</td>\n",
       "      <td>1</td>\n",
       "      <td>0</td>\n",
       "    </tr>\n",
       "    <tr>\n",
       "      <th>1</th>\n",
       "      <td>12283</td>\n",
       "      <td>Comment on Leaked Emails Reveal Hillary Can’t ...</td>\n",
       "      <td>mildred.kraus</td>\n",
       "      <td>WikiLeaks continues to be a treasure trove of ...</td>\n",
       "      <td>1</td>\n",
       "      <td>0</td>\n",
       "    </tr>\n",
       "    <tr>\n",
       "      <th>2</th>\n",
       "      <td>14169</td>\n",
       "      <td>Iran Denies Ballistic Missile Test Violated Nu...</td>\n",
       "      <td>John Hayward</td>\n",
       "      <td>Iran’s Defense Minister Hossein Dehghan issued...</td>\n",
       "      <td>0</td>\n",
       "      <td>0</td>\n",
       "    </tr>\n",
       "    <tr>\n",
       "      <th>3</th>\n",
       "      <td>5935</td>\n",
       "      <td>Re: 13 Year Old: “If Donald Trump Had A Brick ...</td>\n",
       "      <td>John Patriot</td>\n",
       "      <td>Donald Trump and called out Hillary Clinton fo...</td>\n",
       "      <td>1</td>\n",
       "      <td>0</td>\n",
       "    </tr>\n",
       "    <tr>\n",
       "      <th>4</th>\n",
       "      <td>5041</td>\n",
       "      <td>NewsThump declared an Enemy of the People</td>\n",
       "      <td>NaN</td>\n",
       "      <td>Friday 4 November 2016 by Davywavy NewsThump d...</td>\n",
       "      <td>1</td>\n",
       "      <td>0</td>\n",
       "    </tr>\n",
       "  </tbody>\n",
       "</table>\n",
       "</div>"
      ],
      "text/plain": [
       "      id                                              title         author  \\\n",
       "0   6719  Saudi ambassador to the UAE: Any contact with ...            NaN   \n",
       "1  12283  Comment on Leaked Emails Reveal Hillary Can’t ...  mildred.kraus   \n",
       "2  14169  Iran Denies Ballistic Missile Test Violated Nu...   John Hayward   \n",
       "3   5935  Re: 13 Year Old: “If Donald Trump Had A Brick ...   John Patriot   \n",
       "4   5041          NewsThump declared an Enemy of the People            NaN   \n",
       "\n",
       "                                                text  label  kfold  \n",
       "0  Email \\n\\nAccording to a report by an Emirati ...      1      0  \n",
       "1  WikiLeaks continues to be a treasure trove of ...      1      0  \n",
       "2  Iran’s Defense Minister Hossein Dehghan issued...      0      0  \n",
       "3  Donald Trump and called out Hillary Clinton fo...      1      0  \n",
       "4  Friday 4 November 2016 by Davywavy NewsThump d...      1      0  "
      ]
     },
     "execution_count": 11,
     "metadata": {},
     "output_type": "execute_result"
    }
   ],
   "source": [
    "df.head()"
   ]
  },
  {
   "cell_type": "code",
   "execution_count": 24,
   "metadata": {},
   "outputs": [
    {
     "data": {
      "text/plain": [
       "(20800, 5)"
      ]
     },
     "execution_count": 24,
     "metadata": {},
     "output_type": "execute_result"
    }
   ],
   "source": [
    "df.shape"
   ]
  },
  {
   "cell_type": "code",
   "execution_count": 15,
   "metadata": {},
   "outputs": [
    {
     "data": {
      "text/html": [
       "<div>\n",
       "<style scoped>\n",
       "    .dataframe tbody tr th:only-of-type {\n",
       "        vertical-align: middle;\n",
       "    }\n",
       "\n",
       "    .dataframe tbody tr th {\n",
       "        vertical-align: top;\n",
       "    }\n",
       "\n",
       "    .dataframe thead th {\n",
       "        text-align: right;\n",
       "    }\n",
       "</style>\n",
       "<table border=\"1\" class=\"dataframe\">\n",
       "  <thead>\n",
       "    <tr style=\"text-align: right;\">\n",
       "      <th></th>\n",
       "      <th>id</th>\n",
       "      <th>title</th>\n",
       "      <th>author</th>\n",
       "      <th>text</th>\n",
       "      <th>label</th>\n",
       "      <th>kfold</th>\n",
       "    </tr>\n",
       "  </thead>\n",
       "  <tbody>\n",
       "    <tr>\n",
       "      <th>0</th>\n",
       "      <td>6719</td>\n",
       "      <td>Saudi ambassador to the UAE: Any contact with ...</td>\n",
       "      <td>NaN</td>\n",
       "      <td>Email \\n\\nAccording to a report by an Emirati ...</td>\n",
       "      <td>1</td>\n",
       "      <td>0</td>\n",
       "    </tr>\n",
       "    <tr>\n",
       "      <th>1</th>\n",
       "      <td>12283</td>\n",
       "      <td>Comment on Leaked Emails Reveal Hillary Can’t ...</td>\n",
       "      <td>mildred.kraus</td>\n",
       "      <td>WikiLeaks continues to be a treasure trove of ...</td>\n",
       "      <td>1</td>\n",
       "      <td>0</td>\n",
       "    </tr>\n",
       "    <tr>\n",
       "      <th>2</th>\n",
       "      <td>14169</td>\n",
       "      <td>Iran Denies Ballistic Missile Test Violated Nu...</td>\n",
       "      <td>John Hayward</td>\n",
       "      <td>Iran’s Defense Minister Hossein Dehghan issued...</td>\n",
       "      <td>0</td>\n",
       "      <td>0</td>\n",
       "    </tr>\n",
       "    <tr>\n",
       "      <th>3</th>\n",
       "      <td>5935</td>\n",
       "      <td>Re: 13 Year Old: “If Donald Trump Had A Brick ...</td>\n",
       "      <td>John Patriot</td>\n",
       "      <td>Donald Trump and called out Hillary Clinton fo...</td>\n",
       "      <td>1</td>\n",
       "      <td>0</td>\n",
       "    </tr>\n",
       "    <tr>\n",
       "      <th>4</th>\n",
       "      <td>5041</td>\n",
       "      <td>NewsThump declared an Enemy of the People</td>\n",
       "      <td>NaN</td>\n",
       "      <td>Friday 4 November 2016 by Davywavy NewsThump d...</td>\n",
       "      <td>1</td>\n",
       "      <td>0</td>\n",
       "    </tr>\n",
       "  </tbody>\n",
       "</table>\n",
       "</div>"
      ],
      "text/plain": [
       "      id                                              title         author  \\\n",
       "0   6719  Saudi ambassador to the UAE: Any contact with ...            NaN   \n",
       "1  12283  Comment on Leaked Emails Reveal Hillary Can’t ...  mildred.kraus   \n",
       "2  14169  Iran Denies Ballistic Missile Test Violated Nu...   John Hayward   \n",
       "3   5935  Re: 13 Year Old: “If Donald Trump Had A Brick ...   John Patriot   \n",
       "4   5041          NewsThump declared an Enemy of the People            NaN   \n",
       "\n",
       "                                                text  label  kfold  \n",
       "0  Email \\n\\nAccording to a report by an Emirati ...      1      0  \n",
       "1  WikiLeaks continues to be a treasure trove of ...      1      0  \n",
       "2  Iran’s Defense Minister Hossein Dehghan issued...      0      0  \n",
       "3  Donald Trump and called out Hillary Clinton fo...      1      0  \n",
       "4  Friday 4 November 2016 by Davywavy NewsThump d...      1      0  "
      ]
     },
     "execution_count": 15,
     "metadata": {},
     "output_type": "execute_result"
    }
   ],
   "source": [
    "df.head()"
   ]
  },
  {
   "cell_type": "code",
   "execution_count": 25,
   "metadata": {},
   "outputs": [],
   "source": [
    "df.replace('',np.nan,inplace=True)"
   ]
  },
  {
   "cell_type": "code",
   "execution_count": 20,
   "metadata": {},
   "outputs": [
    {
     "data": {
      "text/html": [
       "<div>\n",
       "<style scoped>\n",
       "    .dataframe tbody tr th:only-of-type {\n",
       "        vertical-align: middle;\n",
       "    }\n",
       "\n",
       "    .dataframe tbody tr th {\n",
       "        vertical-align: top;\n",
       "    }\n",
       "\n",
       "    .dataframe thead th {\n",
       "        text-align: right;\n",
       "    }\n",
       "</style>\n",
       "<table border=\"1\" class=\"dataframe\">\n",
       "  <thead>\n",
       "    <tr style=\"text-align: right;\">\n",
       "      <th></th>\n",
       "      <th>id</th>\n",
       "      <th>title</th>\n",
       "      <th>author</th>\n",
       "      <th>text</th>\n",
       "      <th>label</th>\n",
       "      <th>kfold</th>\n",
       "    </tr>\n",
       "  </thead>\n",
       "  <tbody>\n",
       "    <tr>\n",
       "      <th>0</th>\n",
       "      <td>6719</td>\n",
       "      <td>Saudi ambassador to the UAE: Any contact with ...</td>\n",
       "      <td>NaN</td>\n",
       "      <td>Email \\n\\nAccording to a report by an Emirati ...</td>\n",
       "      <td>1</td>\n",
       "      <td>0</td>\n",
       "    </tr>\n",
       "    <tr>\n",
       "      <th>1</th>\n",
       "      <td>12283</td>\n",
       "      <td>Comment on Leaked Emails Reveal Hillary Can’t ...</td>\n",
       "      <td>mildred.kraus</td>\n",
       "      <td>WikiLeaks continues to be a treasure trove of ...</td>\n",
       "      <td>1</td>\n",
       "      <td>0</td>\n",
       "    </tr>\n",
       "    <tr>\n",
       "      <th>2</th>\n",
       "      <td>14169</td>\n",
       "      <td>Iran Denies Ballistic Missile Test Violated Nu...</td>\n",
       "      <td>John Hayward</td>\n",
       "      <td>Iran’s Defense Minister Hossein Dehghan issued...</td>\n",
       "      <td>0</td>\n",
       "      <td>0</td>\n",
       "    </tr>\n",
       "    <tr>\n",
       "      <th>3</th>\n",
       "      <td>5935</td>\n",
       "      <td>Re: 13 Year Old: “If Donald Trump Had A Brick ...</td>\n",
       "      <td>John Patriot</td>\n",
       "      <td>Donald Trump and called out Hillary Clinton fo...</td>\n",
       "      <td>1</td>\n",
       "      <td>0</td>\n",
       "    </tr>\n",
       "    <tr>\n",
       "      <th>4</th>\n",
       "      <td>5041</td>\n",
       "      <td>NewsThump declared an Enemy of the People</td>\n",
       "      <td>NaN</td>\n",
       "      <td>Friday 4 November 2016 by Davywavy NewsThump d...</td>\n",
       "      <td>1</td>\n",
       "      <td>0</td>\n",
       "    </tr>\n",
       "  </tbody>\n",
       "</table>\n",
       "</div>"
      ],
      "text/plain": [
       "      id                                              title         author  \\\n",
       "0   6719  Saudi ambassador to the UAE: Any contact with ...            NaN   \n",
       "1  12283  Comment on Leaked Emails Reveal Hillary Can’t ...  mildred.kraus   \n",
       "2  14169  Iran Denies Ballistic Missile Test Violated Nu...   John Hayward   \n",
       "3   5935  Re: 13 Year Old: “If Donald Trump Had A Brick ...   John Patriot   \n",
       "4   5041          NewsThump declared an Enemy of the People            NaN   \n",
       "\n",
       "                                                text  label  kfold  \n",
       "0  Email \\n\\nAccording to a report by an Emirati ...      1      0  \n",
       "1  WikiLeaks continues to be a treasure trove of ...      1      0  \n",
       "2  Iran’s Defense Minister Hossein Dehghan issued...      0      0  \n",
       "3  Donald Trump and called out Hillary Clinton fo...      1      0  \n",
       "4  Friday 4 November 2016 by Davywavy NewsThump d...      1      0  "
      ]
     },
     "execution_count": 20,
     "metadata": {},
     "output_type": "execute_result"
    }
   ],
   "source": [
    "df.head()"
   ]
  },
  {
   "cell_type": "code",
   "execution_count": null,
   "metadata": {},
   "outputs": [],
   "source": [
    "df.replace(' ',np.nan,inplace=True)\n",
    "df.dropna(subset=['text'], inplace=True)\n",
    "df.reset_index(drop=True, inplace=True)"
   ]
  },
  {
   "cell_type": "code",
   "execution_count": 13,
   "metadata": {},
   "outputs": [
    {
     "data": {
      "text/plain": [
       "array(['Email \\n\\nAccording to a report by an Emirati media website, Emarat Al-Youm, Saudi ambassador to the UAE said in a press interview that any contact with Iran, Iraq, Syria, and Lebanon and even making telephone conversations with these countries’ officials by the members of the Gulf Cooperation Council (GCC) states, should first be checked carefully and approved by the General-Secretariat of the organization in Riyadh.',\n",
       "       \"WikiLeaks continues to be a treasure trove of info about the behind-the-scenes rigging of what is turning out to be the most infamous presidential election in American history. \\nRemember the first debate between Hillary Clinton and Donald Trump and the conspiracy surrounding “podiumgate” ? \\nHillary required a specially built podium under the pretext that she didn’t want to appear shorter than Trump. \\nAfter the debate was over, however, a sneaky “cleaner man” was caught on tape approaching Hillary’s podium multiple times, removing various items and looking as shady as possible while doing it. What could also clearly be seen was what appeared to be a lit screen dimming specifically in her podium and not in Trump’s just after the debate officially ended. \\nThis led to lots of speculation on whether or not Hillary cheated during the first debate against Trump and other debates as well, having her comments fed to her. \\nWell, if the Wikileaks Podesta emails are any indication, it’s very possible. Why? \\nBecause apparently Hillary can’t give long speeches without a podium. \\nIn fact, these emails (and this isn’t even all of them, but enough for you to get the picture) prove her team is well aware of the fact that everything has to be kept “short and sweet” unless Hillary has a podium. \\nSo how are we supposed to believe she was able to speak at the 90-minutes debates without prepared notes being fed to her somehow? \\nEspecially that final debate where she appeared to be reading more than writing, looking down all the time at some sort of lit screen embedded in the podium as pointed out in other debates, as shown in the video above. Piper writes for The Daily Sheeple . There’s a lot of B.S. out there. Someone has to write about it. Don't forget to follow the D.C. Clothesline on Facebook and Twitter. PLEASE help spread the word by sharing our articles on your favorite social networks. Share this:\",\n",
       "       'Iran’s Defense Minister Hossein Dehghan issued a statement to Iranian state media confirming the recent test of a ballistic missile, and claiming the test did not violate the nuclear deal. [“The recent test was in line with our plans and we will not allow foreigners to interfere in our defense affairs. The test did not violate the nuclear deal or (U. N.) Resolution 2231,” Dehghan told the Tasnim news agency, as quoted by Reuters.  Dehghan is most likely correct about the nuclear deal, which gave Iran tremendous latitude and major economic incentives, while requiring few concessions from Tehran. He is on shakier ground regarding U. N. resolutions, but the U. N. Security Council has decided to form a committee to study Iranian missile testing, rather than issue an immediate condemnation. As Reuters notes, “critics” of the relevant U. N. resolution (meaning primarily Iran and Russia) claim it merely discourages Iran from developing   ballistic missiles, rather than outright forbidding tests. The Iranian parliament issued a statement declaring that Iran is “against weapons of mass destruction, so its missile capability is the only available deterrence against enemy hostility. ” They dismissed international condemnation of Iranian missile testing as “illogical. ” The Trump administration condemned the missile launch in strong terms. “I will tell the people across the world that is something you should be alarmed about,” said Nikki Haley, the new ambassador to the United Nations. “The United States is not naive. We are not going to stand by. You will see us call them out, as we said we would, and you are also going to see us act accordingly. ” “We are officially putting Iran on notice,” National Security Adviser Mike Flynn declared at a White House press briefing on Wednesday, citing both Iran’s ballistic missile launch and the recent attack on a Saudi frigate by   insurgents in Yemen. Flynn said Iran had been “emboldened” to pursue such provocative behavior by the “weak and ineffective” response of the Obama administration. National Security Advisor Michael Flynn at White House briefing: ”As of today, we are officially putting Iran on notice.” pic. twitter.   —   ABC News Politics (@ABCPolitics) February 1, 2017,  White House press secretary Sean Spicer added that the Trump administration wishes to make it clear that Iran’s actions “are both provocative and in violation” of the nuclear deal, despite Tehran’s claims to the contrary, and “we’re not going to sit by and do nothing. ” Analyst Benham Ben Taleblu of the Foundation for the Defense of Democracies told Business Insider he agreed that “ ” language about missile testing in the nuclear deal gave Iran a loophole to conduct testing that “definitely violates the spirit, if not the letter” of standing U. N. resolutions. Taleblu observed that even without nuclear warheads, Iran’s focus on missiles allows it to maintain a “conventionally weak and asymmetrically strong” military. In other words, Iran uses insurgents and terrorists to destabilize its enemies across the region, and if any of those enemies decides to counterattack Iran, it will find the border lined with enough missiles to make retaliatory actions too costly to contemplate.',\n",
       "       ...,\n",
       "       'President Donald Trump celebrated the opening of a new coal mine in Pennsylvania, sending a recorded video to miners for the ceremony. [“I’m absolutely thrilled to be speaking with you on this great, great day,” Trump said in the video. “The miners of Pennsylvania  —   we’re digging coal again. ”  The Corsa Coal Company is opening the Acosta coal mine and is expected to employ   miners. Yesterday, Trump delivered a speech via video celebrating the opening of a new coal mine in Pennsylvania https:  .  pic. twitter.   —   Charlie Spiering (@charliespiering) June 9, 2017,  Trump reminded the miners of his promises during the campaign, and his ongoing efforts to reduce regulations to bring back jobs. “Clean coal will power America into the future,” Trump said. He also celebrated his decision to remove the United States from the “horrendous” Paris Climate Agreement, asserting that it would have sent the United States back “decades and decades. ” “We are doing something special and we are helping American coal,” Trump said. Hail to their hero. At Acosta mine opening. pic. twitter.   —   Debra Erdley (@deberdley_trib) June 8, 2017,  Trump also highlighted the mine’s opening during his speech announcing his decision to withdraw from the climate agreement. The president’s video aired as attention was focused on former FBI director James Comey’s testimony to the Senate. He vowed to continue fighting for coal jobs despite opposition: Though Washington may be some 180 miles down the road, as long as I’m the president of your great country, each and every day I’m fighting for you and I’m fighting for all the forgotten men and women in our country. It’s not easy, we have a lot of bad opposition, we have a lot of bad, bad phony opposition, but together we will all make sure that our nation is a land of prosperity and opportunity for all. Table centerpiece @CorsaCoal Acosta Deep Mine opening day pic. twitter.   —   Stephen Huba (@shuba_trib) June 8, 2017, ',\n",
       "       'WASHINGTON  —   Pressure mounted on Sunday for a broader congressional investigation of Russian cyberattacks aimed at influencing the American election, even as a top aide to   Donald J. Trump said there was no conclusive evidence of foreign interference. The effort was being led by a bipartisan group of senators, including John McCain, Republican of Arizona, and Chuck Schumer of New York, the Senate Democratic leader, who called on Sunday for the creation of a Senate select committee on cyberactivity to take the investigative lead on Capitol Hill. “Recent reports of Russian interference in our election should alarm every American,” the senators wrote on Sunday in a letter to Senator Mitch McConnell, Republican of Kentucky and the majority leader, who has said a select committee is not necessary. “Cybersecurity is the ultimate   challenge, and we must take a comprehensive approach to meet this challenge effectively. ” The developments served to deepen the fissures between   lawmakers of both parties who see American intelligence reports implicating Russia as the basis for additional inquiries and Mr. Trump, who continues to reject the conclusions of those reports. But the developments also put new strain on Mr. McConnell. He now faces calls from Mr. McCain and Lindsey Graham, two Senate Republicans considered well versed on national security issues, to form a select committee. If he were to reject that appeal, he would be subject to criticism that he was trying to avoid a spotlight on an issue that senators in both parties believe is worthy of more focused scrutiny. Mr. McConnell said last week that while he respects the intelligence agencies’ conclusions, the Senate Intelligence Committee is “more than capable of conducting a complete review” itself. He also acknowledged that Mr. McCain could conduct an investigation on the Armed Services Committee, an option that remains open should Mr. McConnell decide against a select committee. Those divisions, coming as the Electoral College prepares to meet on Monday to ratify Mr. Trump’s election and the   completes his cabinet choices, all but ensured that the issue would cloud the first months of Mr. Trump’s presidency, when he will be asking Congress to approve an aggressive legislative agenda. Several permanent congressional committees have already been tasked with examining various aspects of the Russian interference, which has been largely accepted as fact by most members of Congress. But in their letter on Sunday, the lawmakers argued the issue was too important and complicated for an existing committee to take on properly. “We share your respect for, and deference to, the regular order of the Senate, and we recognize that this is an extraordinary request,” the senators wrote to Mr. McConnell. “However, we believe it is justified by the extraordinary scope and scale of the cyber problem. ” In addition to undertaking a “comprehensive investigation of Russian interference,” the senators recommended that such a committee also develop “comprehensive recommendations and, as necessary, new legislation to modernize our nation’s laws, governmental organization, and related practices to meet this challenge. ” Select committees, which are typically created to examine a particular issue for a limited time, are rarely formed. The most prominent recent example is the House Select Committee on the attacks in 2012 on the American diplomatic compound in Benghazi, Libya, an inquiry that Democrats have denounced as unduly partisan. Speaker Paul D. Ryan said last week that the House Intelligence Committee would continue its own examination of Russian hacking. Mr. Schumer said in a news conference on Sunday that they intended to avoid such charges of partisanship. “We don’t want it to just be finger pointing at one person or another,” Mr. Schumer said. “We want to find out what the Russians are doing to our political system and what other foreign governments might do to our political system. And then figure out a way to stop it. ” A spokesman for Mr. McConnell, David Popp, referred to Mr. McConnell’s earlier comments and said the majority leader would be reviewing the latest letter. The letter was also signed by Mr. Graham, Republican of South Carolina, and Senator Jack Reed, Democrat of Rhode Island, two members of the Senate Armed Services Committee that Mr. McCain leads. It follows a signed statement from the lawmakers, released last week, warning that any congressional investigation into the hacks “cannot become a partisan issue. ” Mr. Trump, for his part, has sought to paint the intelligence community’s conclusions about the matter as just that  —   a partisan attack against him. He said last week that the reports were “just another excuse” by Democrats frustrated with the election results that might be used to try to undermine his victory. Asked on CBS’s “Face the Nation” on Sunday what information Mr. Trump had received that led him to reject intelligence assessments, Kellyanne Conway, one of Mr. Trump’s top advisers, insisted that the reports about the hacking were groundless. “Where is the evidence?” Ms. Conway asked, turning the question around. “Why, when C. I. A. officials were invited to a House intelligence briefing last week, did they refuse to go?” Robert M. Gates, the former defense secretary under President Obama and President George W. Bush who has offered counsel to Mr. Trump, speculated on NBC’s “Meet the Press” that the   “felt the way this information came out through newspaper stories and so on was somehow intended to delegitimize his victory in the election and that he’s reacting to that rather than ‘the facts on the ground,’ as it were. ” But Mr. Gates also said the Russian hacking was aimed at discrediting the American electoral process. “Whether or not it was intended to help one candidate or another, I don’t know,” said Mr. Gates, who also served as C. I. A. director under President George Bush. “But I think it clearly was aimed at discrediting our elections, and I think it was aimed certainly at weakening Mrs. Clinton. ” Mr. Obama, in a news conference on Friday, vowed that the United States would respond to the attack. He said that he was still weighing a mix of covert and public actions to retaliate before he leaves office. And lawmakers from both parties have proposed new sanctions to punish Russia. Speaking Sunday on CNN’s “State of the Union,” Mr. McCain sought to add urgency to the matter. “There’s no doubt they were interfering and no doubt that it was cyberattacks,” he said of the Russians. “The question now is how much and what damage and what should the United States of America do? And so far, we have been totally paralyzed. ” Mr. McCain said that he had faith that “reality is going to intercede at one point or another” on Mr. Trump, suggesting that the   might come to agree about Russian influence. Asked on CBS about Mr. Obama’s pledge of retaliation, Ms. Conway said Mr. Trump “respects” Mr. Obama’s right to respond as he sees fit for the remainder of his presidency. But, she added, that “doesn’t mean that new President Trump will agree with it and continue it. ” “It does seem to be a political response at this point because it seems like the president is under pressure from Team Hillary, who can’t accept the election results,” she said.',\n",
       "       'November 25, 2016 - Fort Russ News -  PolitRussia - translated by J. Arnoldski -  \\n\\n\\nThe head of the Turkish Association of Eurasian Governments and confidant of the deputy head of Turkey’s General Security Directorate, Hasan Cengiz, has called for the choice of the Crimean people expressed in the referendum in 2014 to be recognized. \\nCengiz is the head of a delegation of Turkish politicians and business circle representatives that arrived in Simferopol from Moscow on Wednesday evening. The delegation includes 22 people, including a representative of the Turkish president, a participant in meetings between the Russian and Turkish presidents, Ibrahim Ereli, and the vice mayor of Ankara, Ahmet Tunc. \\n\\nCengiz stated during a meeting with Crimean parliamentarians in Simferopol: “Crimea is home to around 2.5 million people. And the will of the people of Crimea led to Crimea reunifying with Russia. A very high percentage of voters in the referendum supported this. The people’s choice must be respected.”  \\n\\n\\n\\n     Follow us on Facebook!                                                   \\n                                                   \\n\\n       Follow us on Twitter! \\n                               \\n\\n             Donate! \\n'],\n",
       "      dtype=object)"
      ]
     },
     "execution_count": 13,
     "metadata": {},
     "output_type": "execute_result"
    }
   ],
   "source": [
    "df.text.values"
   ]
  },
  {
   "cell_type": "code",
   "execution_count": 45,
   "metadata": {
    "scrolled": true
   },
   "outputs": [
    {
     "data": {
      "text/plain": [
       "'House Dem Aide: We Didn’t Even See Comey’s Letter Until Jason Chaffetz Tweeted It By Darrell Lucus on October 30, 2016 Subscribe Jason Chaffetz on the stump in American Fork, Utah ( image courtesy Michael Jolley, available under a Creative Commons-BY license) \\nWith apologies to Keith Olbermann, there is no doubt who the Worst Person in The World is this week–FBI Director James Comey. But according to a House Democratic aide, it looks like we also know who the second-worst person is as well. It turns out that when Comey sent his now-infamous letter announcing that the FBI was looking into emails that may be related to Hillary Clinton’s email server, the ranking Democrats on the relevant committees didn’t hear about it from Comey. They found out via a tweet from one of the Republican committee chairmen. \\nAs we now know, Comey notified the Republican chairmen and Democratic ranking members of the House Intelligence, Judiciary, and Oversight committees that his agency was reviewing emails it had recently discovered in order to see if they contained classified information. Not long after this letter went out, Oversight Committee Chairman Jason Chaffetz set the political world ablaze with this tweet. FBI Dir just informed me, \"The FBI has learned of the existence of emails that appear to be pertinent to the investigation.\" Case reopened \\n— Jason Chaffetz (@jasoninthehouse) October 28, 2016 \\nOf course, we now know that this was not the case . Comey was actually saying that it was reviewing the emails in light of “an unrelated case”–which we now know to be Anthony Weiner’s sexting with a teenager. But apparently such little things as facts didn’t matter to Chaffetz. The Utah Republican had already vowed to initiate a raft of investigations if Hillary wins–at least two years’ worth, and possibly an entire term’s worth of them. Apparently Chaffetz thought the FBI was already doing his work for him–resulting in a tweet that briefly roiled the nation before cooler heads realized it was a dud. \\nBut according to a senior House Democratic aide, misreading that letter may have been the least of Chaffetz’ sins. That aide told Shareblue that his boss and other Democrats didn’t even know about Comey’s letter at the time–and only found out when they checked Twitter. “Democratic Ranking Members on the relevant committees didn’t receive Comey’s letter until after the Republican Chairmen. In fact, the Democratic Ranking Members didn’ receive it until after the Chairman of the Oversight and Government Reform Committee, Jason Chaffetz, tweeted it out and made it public.” \\nSo let’s see if we’ve got this right. The FBI director tells Chaffetz and other GOP committee chairmen about a major development in a potentially politically explosive investigation, and neither Chaffetz nor his other colleagues had the courtesy to let their Democratic counterparts know about it. Instead, according to this aide, he made them find out about it on Twitter. \\nThere has already been talk on Daily Kos that Comey himself provided advance notice of this letter to Chaffetz and other Republicans, giving them time to turn on the spin machine. That may make for good theater, but there is nothing so far that even suggests this is the case. After all, there is nothing so far that suggests that Comey was anything other than grossly incompetent and tone-deaf. \\nWhat it does suggest, however, is that Chaffetz is acting in a way that makes Dan Burton and Darrell Issa look like models of responsibility and bipartisanship. He didn’t even have the decency to notify ranking member Elijah Cummings about something this explosive. If that doesn’t trample on basic standards of fairness, I don’t know what does. \\nGranted, it’s not likely that Chaffetz will have to answer for this. He sits in a ridiculously Republican district anchored in Provo and Orem; it has a Cook Partisan Voting Index of R+25, and gave Mitt Romney a punishing 78 percent of the vote in 2012. Moreover, the Republican House leadership has given its full support to Chaffetz’ planned fishing expedition. But that doesn’t mean we can’t turn the hot lights on him. After all, he is a textbook example of what the House has become under Republican control. And he is also the Second Worst Person in the World. About Darrell Lucus \\nDarrell is a 30-something graduate of the University of North Carolina who considers himself a journalist of the old school. An attempt to turn him into a member of the religious right in college only succeeded in turning him into the religious right\\'s worst nightmare--a charismatic Christian who is an unapologetic liberal. His desire to stand up for those who have been scared into silence only increased when he survived an abusive three-year marriage. You may know him on Daily Kos as Christian Dem in NC . Follow him on Twitter @DarrellLucus or connect with him on Facebook . Click here to buy Darrell a Mello Yello. Connect'"
      ]
     },
     "execution_count": 45,
     "metadata": {},
     "output_type": "execute_result"
    }
   ],
   "source": [
    "df[:1].text[0]"
   ]
  },
  {
   "cell_type": "code",
   "execution_count": 47,
   "metadata": {},
   "outputs": [],
   "source": [
    "aa = df[:2].text.apply(clean_text)"
   ]
  },
  {
   "cell_type": "code",
   "execution_count": 48,
   "metadata": {},
   "outputs": [
    {
     "data": {
      "text/plain": [
       "0    House Dem Aide We Didn’t Even See Comey’s Lett...\n",
       "1    Ever get the feeling your life circles the rou...\n",
       "Name: text, dtype: object"
      ]
     },
     "execution_count": 48,
     "metadata": {},
     "output_type": "execute_result"
    }
   ],
   "source": [
    "aa"
   ]
  },
  {
   "cell_type": "code",
   "execution_count": 50,
   "metadata": {},
   "outputs": [
    {
     "data": {
      "text/plain": [
       "[]"
      ]
     },
     "execution_count": 50,
     "metadata": {},
     "output_type": "execute_result"
    }
   ],
   "source": [
    "''.split()"
   ]
  },
  {
   "cell_type": "code",
   "execution_count": null,
   "metadata": {},
   "outputs": [],
   "source": []
  },
  {
   "cell_type": "code",
   "execution_count": 5,
   "metadata": {},
   "outputs": [],
   "source": [
    "## using clean text function\n",
    "\n",
    "df.loc[:,\"text\"] = df[:1].text.apply(clean_text)"
   ]
  },
  {
   "cell_type": "code",
   "execution_count": null,
   "metadata": {},
   "outputs": [],
   "source": []
  }
 ],
 "metadata": {
  "kernelspec": {
   "display_name": "Python 3",
   "language": "python",
   "name": "python3"
  },
  "language_info": {
   "codemirror_mode": {
    "name": "ipython",
    "version": 3
   },
   "file_extension": ".py",
   "mimetype": "text/x-python",
   "name": "python",
   "nbconvert_exporter": "python",
   "pygments_lexer": "ipython3",
   "version": "3.6.8"
  }
 },
 "nbformat": 4,
 "nbformat_minor": 2
}
